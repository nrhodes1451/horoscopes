{
 "cells": [
  {
   "cell_type": "code",
   "execution_count": 7,
   "metadata": {},
   "outputs": [
    {
     "name": "stdout",
     "output_type": "stream",
     "text": [
      "1.8.0\n"
     ]
    }
   ],
   "source": [
    "import tensorflow as tf\n",
    "from tensorflow import keras\n",
    "\n",
    "import numpy as np\n",
    "\n",
    "print(tf.__version__)"
   ]
  },
  {
   "cell_type": "code",
   "execution_count": 8,
   "metadata": {},
   "outputs": [
    {
     "name": "stdout",
     "output_type": "stream",
     "text": [
      "Downloading data from https://s3.amazonaws.com/text-datasets/imdb.npz\n",
      "17465344/17464789 [==============================] - 7s 0us/step\n"
     ]
    }
   ],
   "source": [
    "imdb = keras.datasets.imdb\n",
    "\n",
    "(train_data, train_labels), (test_data, test_labels) = imdb.load_data(num_words=10000)"
   ]
  },
  {
   "cell_type": "code",
   "execution_count": 32,
   "metadata": {},
   "outputs": [
    {
     "name": "stdout",
     "output_type": "stream",
     "text": [
      "Training entries: 25000, labels: 25000\n"
     ]
    }
   ],
   "source": [
    "print(\"Training entries: {}, labels: {}\".format(len(train_data), len(train_labels)))"
   ]
  },
  {
   "cell_type": "code",
   "execution_count": 34,
   "metadata": {},
   "outputs": [
    {
     "name": "stdout",
     "output_type": "stream",
     "text": [
      "[1, 14, 22, 16, 43, 530, 973, 1622, 1385, 65, 458, 4468, 66, 3941, 4, 173, 36, 256, 5, 25, 100, 43, 838, 112, 50, 670, 2, 9, 35, 480, 284, 5, 150, 4, 172, 112, 167, 2, 336, 385, 39, 4, 172, 4536, 1111, 17, 546, 38, 13, 447, 4, 192, 50, 16, 6, 147, 2025, 19, 14, 22, 4, 1920, 4613, 469, 4, 22, 71, 87, 12, 16, 43, 530, 38, 76, 15, 13, 1247, 4, 22, 17, 515, 17, 12, 16, 626, 18, 2, 5, 62, 386, 12, 8, 316, 8, 106, 5, 4, 2223, 5244, 16, 480, 66, 3785, 33, 4, 130, 12, 16, 38, 619, 5, 25, 124, 51, 36, 135, 48, 25, 1415, 33, 6, 22, 12, 215, 28, 77, 52, 5, 14, 407, 16, 82, 2, 8, 4, 107, 117, 5952, 15, 256, 4, 2, 7, 3766, 5, 723, 36, 71, 43, 530, 476, 26, 400, 317, 46, 7, 4, 2, 1029, 13, 104, 88, 4, 381, 15, 297, 98, 32, 2071, 56, 26, 141, 6, 194, 7486, 18, 4, 226, 22, 21, 134, 476, 26, 480, 5, 144, 30, 5535, 18, 51, 36, 28, 224, 92, 25, 104, 4, 226, 65, 16, 38, 1334, 88, 12, 16, 283, 5, 16, 4472, 113, 103, 32, 15, 16, 5345, 19, 178, 32]\n"
     ]
    }
   ],
   "source": [
    "print(train_data[0])"
   ]
  },
  {
   "cell_type": "code",
   "execution_count": 36,
   "metadata": {},
   "outputs": [
    {
     "data": {
      "text/plain": [
       "(218, 189)"
      ]
     },
     "execution_count": 36,
     "metadata": {},
     "output_type": "execute_result"
    }
   ],
   "source": [
    "len(train_data[0]), len(train_data[1])"
   ]
  },
  {
   "cell_type": "code",
   "execution_count": 37,
   "metadata": {},
   "outputs": [
    {
     "name": "stdout",
     "output_type": "stream",
     "text": [
      "Downloading data from https://s3.amazonaws.com/text-datasets/imdb_word_index.json\n",
      "1646592/1641221 [==============================] - 1s 0us/step\n"
     ]
    }
   ],
   "source": [
    "# A dictionary mapping words to an integer index\n",
    "word_index = imdb.get_word_index()\n",
    "\n",
    "# The first indices are reserved\n",
    "word_index = {k:(v+3) for k,v in word_index.items()} \n",
    "word_index[\"<PAD>\"] = 0\n",
    "word_index[\"<START>\"] = 1\n",
    "word_index[\"<UNK>\"] = 2  # unknown\n",
    "word_index[\"<UNUSED>\"] = 3\n",
    "\n",
    "reverse_word_index = dict([(value, key) for (key, value) in word_index.items()])\n",
    "\n",
    "def decode_review(text):\n",
    "    return ' '.join([reverse_word_index.get(i, '?') for i in text])\n"
   ]
  },
  {
   "cell_type": "code",
   "execution_count": 38,
   "metadata": {},
   "outputs": [
    {
     "data": {
      "text/plain": [
       "\"<START> this film was just brilliant casting location scenery story direction everyone's really suited the part they played and you could just imagine being there robert <UNK> is an amazing actor and now the same being director <UNK> father came from the same scottish island as myself so i loved the fact there was a real connection with this film the witty remarks throughout the film were great it was just brilliant so much that i bought the film as soon as it was released for <UNK> and would recommend it to everyone to watch and the fly fishing was amazing really cried at the end it was so sad and you know what they say if you cry at a film it must have been good and this definitely was also <UNK> to the two little boy's that played the <UNK> of norman and paul they were just brilliant children are often left out of the <UNK> list i think because the stars that play them all grown up are such a big profile for the whole film but these children are amazing and should be praised for what they have done don't you think the whole story was so lovely because it was true and was someone's life after all that was shared with us all\""
      ]
     },
     "execution_count": 38,
     "metadata": {},
     "output_type": "execute_result"
    }
   ],
   "source": [
    "decode_review(train_data[0])"
   ]
  },
  {
   "cell_type": "code",
   "execution_count": 39,
   "metadata": {},
   "outputs": [],
   "source": [
    "train_data = keras.preprocessing.sequence.pad_sequences(train_data,\n",
    "                                                        value=word_index[\"<PAD>\"],\n",
    "                                                        padding='post',\n",
    "                                                        maxlen=256)\n",
    "\n",
    "test_data = keras.preprocessing.sequence.pad_sequences(test_data,\n",
    "                                                       value=word_index[\"<PAD>\"],\n",
    "                                                       padding='post',\n",
    "                                                       maxlen=256)"
   ]
  },
  {
   "cell_type": "code",
   "execution_count": 40,
   "metadata": {},
   "outputs": [
    {
     "data": {
      "text/plain": [
       "(256, 256)"
      ]
     },
     "execution_count": 40,
     "metadata": {},
     "output_type": "execute_result"
    }
   ],
   "source": [
    "len(train_data[0]), len(train_data[1])"
   ]
  },
  {
   "cell_type": "code",
   "execution_count": 41,
   "metadata": {
    "scrolled": true
   },
   "outputs": [
    {
     "name": "stdout",
     "output_type": "stream",
     "text": [
      "[   1   14   22   16   43  530  973 1622 1385   65  458 4468   66 3941\n",
      "    4  173   36  256    5   25  100   43  838  112   50  670    2    9\n",
      "   35  480  284    5  150    4  172  112  167    2  336  385   39    4\n",
      "  172 4536 1111   17  546   38   13  447    4  192   50   16    6  147\n",
      " 2025   19   14   22    4 1920 4613  469    4   22   71   87   12   16\n",
      "   43  530   38   76   15   13 1247    4   22   17  515   17   12   16\n",
      "  626   18    2    5   62  386   12    8  316    8  106    5    4 2223\n",
      " 5244   16  480   66 3785   33    4  130   12   16   38  619    5   25\n",
      "  124   51   36  135   48   25 1415   33    6   22   12  215   28   77\n",
      "   52    5   14  407   16   82    2    8    4  107  117 5952   15  256\n",
      "    4    2    7 3766    5  723   36   71   43  530  476   26  400  317\n",
      "   46    7    4    2 1029   13  104   88    4  381   15  297   98   32\n",
      " 2071   56   26  141    6  194 7486   18    4  226   22   21  134  476\n",
      "   26  480    5  144   30 5535   18   51   36   28  224   92   25  104\n",
      "    4  226   65   16   38 1334   88   12   16  283    5   16 4472  113\n",
      "  103   32   15   16 5345   19  178   32    0    0    0    0    0    0\n",
      "    0    0    0    0    0    0    0    0    0    0    0    0    0    0\n",
      "    0    0    0    0    0    0    0    0    0    0    0    0    0    0\n",
      "    0    0    0    0]\n"
     ]
    }
   ],
   "source": [
    "print(train_data[0])"
   ]
  },
  {
   "cell_type": "code",
   "execution_count": 42,
   "metadata": {},
   "outputs": [
    {
     "name": "stdout",
     "output_type": "stream",
     "text": [
      "_________________________________________________________________\n",
      "Layer (type)                 Output Shape              Param #   \n",
      "=================================================================\n",
      "embedding_1 (Embedding)      (None, None, 16)          160000    \n",
      "_________________________________________________________________\n",
      "global_average_pooling1d_1 ( (None, 16)                0         \n",
      "_________________________________________________________________\n",
      "dense_1 (Dense)              (None, 16)                272       \n",
      "_________________________________________________________________\n",
      "dense_2 (Dense)              (None, 1)                 17        \n",
      "=================================================================\n",
      "Total params: 160,289\n",
      "Trainable params: 160,289\n",
      "Non-trainable params: 0\n",
      "_________________________________________________________________\n"
     ]
    }
   ],
   "source": [
    "# input shape is the vocabulary count used for the movie reviews (10,000 words)\n",
    "vocab_size = 10000\n",
    "\n",
    "model = keras.Sequential()\n",
    "model.add(keras.layers.Embedding(vocab_size, 16))\n",
    "model.add(keras.layers.GlobalAveragePooling1D())\n",
    "model.add(keras.layers.Dense(16, activation=tf.nn.relu))\n",
    "model.add(keras.layers.Dense(1, activation=tf.nn.sigmoid))\n",
    "\n",
    "model.summary()"
   ]
  },
  {
   "cell_type": "code",
   "execution_count": 43,
   "metadata": {},
   "outputs": [],
   "source": [
    "model.compile(optimizer=tf.train.AdamOptimizer(),\n",
    "              loss='binary_crossentropy',\n",
    "              metrics=['accuracy'])"
   ]
  },
  {
   "cell_type": "code",
   "execution_count": 82,
   "metadata": {},
   "outputs": [],
   "source": [
    "x_val = train_data[:10000]\n",
    "partial_x_train = train_data[10000:]\n",
    "\n",
    "y_val = train_labels[:10000]\n",
    "partial_y_train = train_labels[10000:]"
   ]
  },
  {
   "cell_type": "code",
   "execution_count": 83,
   "metadata": {},
   "outputs": [
    {
     "name": "stdout",
     "output_type": "stream",
     "text": [
      "Train on 15000 samples, validate on 10000 samples\n",
      "Epoch 1/40\n",
      "15000/15000 [==============================] - 2s 104us/step - loss: 0.1780 - acc: 0.9379 - val_loss: 0.2694 - val_acc: 0.8926\n",
      "Epoch 2/40\n",
      "15000/15000 [==============================] - 1s 95us/step - loss: 0.1765 - acc: 0.9370 - val_loss: 0.2693 - val_acc: 0.8918\n",
      "Epoch 3/40\n",
      "15000/15000 [==============================] - 1s 93us/step - loss: 0.1753 - acc: 0.9376 - val_loss: 0.2694 - val_acc: 0.8912\n",
      "Epoch 4/40\n",
      "15000/15000 [==============================] - 2s 102us/step - loss: 0.1744 - acc: 0.9383 - val_loss: 0.2694 - val_acc: 0.8916\n",
      "Epoch 5/40\n",
      "15000/15000 [==============================] - 2s 102us/step - loss: 0.1733 - acc: 0.9387 - val_loss: 0.2696 - val_acc: 0.8906\n",
      "Epoch 6/40\n",
      "15000/15000 [==============================] - 1s 95us/step - loss: 0.1724 - acc: 0.9391 - val_loss: 0.2692 - val_acc: 0.8917\n",
      "Epoch 7/40\n",
      "15000/15000 [==============================] - 2s 114us/step - loss: 0.1713 - acc: 0.9393 - val_loss: 0.2694 - val_acc: 0.8925\n",
      "Epoch 8/40\n",
      "15000/15000 [==============================] - 1s 89us/step - loss: 0.1702 - acc: 0.9399 - val_loss: 0.2693 - val_acc: 0.8906\n",
      "Epoch 9/40\n",
      "15000/15000 [==============================] - 1s 87us/step - loss: 0.1692 - acc: 0.9403 - val_loss: 0.2698 - val_acc: 0.8926\n",
      "Epoch 10/40\n",
      "15000/15000 [==============================] - 1s 100us/step - loss: 0.1682 - acc: 0.9405 - val_loss: 0.2696 - val_acc: 0.8910\n",
      "Epoch 11/40\n",
      "15000/15000 [==============================] - 1s 91us/step - loss: 0.1671 - acc: 0.9411 - val_loss: 0.2693 - val_acc: 0.8918\n",
      "Epoch 12/40\n",
      "15000/15000 [==============================] - 1s 91us/step - loss: 0.1661 - acc: 0.9415 - val_loss: 0.2695 - val_acc: 0.8914\n",
      "Epoch 13/40\n",
      "15000/15000 [==============================] - 1s 87us/step - loss: 0.1650 - acc: 0.9421 - val_loss: 0.2694 - val_acc: 0.8924\n",
      "Epoch 14/40\n",
      "15000/15000 [==============================] - 1s 89us/step - loss: 0.1641 - acc: 0.9423 - val_loss: 0.2696 - val_acc: 0.8919\n",
      "Epoch 15/40\n",
      "15000/15000 [==============================] - 1s 87us/step - loss: 0.1630 - acc: 0.9431 - val_loss: 0.2697 - val_acc: 0.8912\n",
      "Epoch 16/40\n",
      "15000/15000 [==============================] - 1s 95us/step - loss: 0.1620 - acc: 0.9433 - val_loss: 0.2697 - val_acc: 0.8924\n",
      "Epoch 17/40\n",
      "15000/15000 [==============================] - 1s 95us/step - loss: 0.1607 - acc: 0.9433 - val_loss: 0.2698 - val_acc: 0.8916\n",
      "Epoch 18/40\n",
      "15000/15000 [==============================] - 1s 94us/step - loss: 0.1596 - acc: 0.9447 - val_loss: 0.2700 - val_acc: 0.8920\n",
      "Epoch 19/40\n",
      "15000/15000 [==============================] - 1s 91us/step - loss: 0.1586 - acc: 0.9443 - val_loss: 0.2702 - val_acc: 0.8917\n",
      "Epoch 20/40\n",
      "15000/15000 [==============================] - 1s 92us/step - loss: 0.1575 - acc: 0.9457 - val_loss: 0.2701 - val_acc: 0.8919\n",
      "Epoch 21/40\n",
      "15000/15000 [==============================] - 1s 91us/step - loss: 0.1563 - acc: 0.9465 - val_loss: 0.2704 - val_acc: 0.8919\n",
      "Epoch 22/40\n",
      "15000/15000 [==============================] - 1s 89us/step - loss: 0.1554 - acc: 0.9463 - val_loss: 0.2705 - val_acc: 0.8917\n",
      "Epoch 23/40\n",
      "15000/15000 [==============================] - 1s 89us/step - loss: 0.1541 - acc: 0.9477 - val_loss: 0.2707 - val_acc: 0.8914\n",
      "Epoch 24/40\n",
      "15000/15000 [==============================] - 1s 88us/step - loss: 0.1531 - acc: 0.9477 - val_loss: 0.2709 - val_acc: 0.8914\n",
      "Epoch 25/40\n",
      "15000/15000 [==============================] - 1s 92us/step - loss: 0.1519 - acc: 0.9482 - val_loss: 0.2712 - val_acc: 0.8913\n",
      "Epoch 26/40\n",
      "15000/15000 [==============================] - 1s 89us/step - loss: 0.1509 - acc: 0.9487 - val_loss: 0.2713 - val_acc: 0.8914\n",
      "Epoch 27/40\n",
      "15000/15000 [==============================] - 1s 88us/step - loss: 0.1497 - acc: 0.9492 - val_loss: 0.2718 - val_acc: 0.8909\n",
      "Epoch 28/40\n",
      "15000/15000 [==============================] - 1s 89us/step - loss: 0.1485 - acc: 0.9495 - val_loss: 0.2718 - val_acc: 0.8919\n",
      "Epoch 29/40\n",
      "15000/15000 [==============================] - 1s 89us/step - loss: 0.1473 - acc: 0.9506 - val_loss: 0.2728 - val_acc: 0.8921\n",
      "Epoch 30/40\n",
      "15000/15000 [==============================] - 1s 97us/step - loss: 0.1464 - acc: 0.9508 - val_loss: 0.2724 - val_acc: 0.8915\n",
      "Epoch 31/40\n",
      "15000/15000 [==============================] - 1s 91us/step - loss: 0.1452 - acc: 0.9514 - val_loss: 0.2727 - val_acc: 0.8916\n",
      "Epoch 32/40\n",
      "15000/15000 [==============================] - 1s 91us/step - loss: 0.1439 - acc: 0.9518 - val_loss: 0.2729 - val_acc: 0.8916\n",
      "Epoch 33/40\n",
      "15000/15000 [==============================] - 2s 112us/step - loss: 0.1427 - acc: 0.9515 - val_loss: 0.2735 - val_acc: 0.8916\n",
      "Epoch 34/40\n",
      "15000/15000 [==============================] - 2s 104us/step - loss: 0.1416 - acc: 0.9530 - val_loss: 0.2736 - val_acc: 0.8918\n",
      "Epoch 35/40\n",
      "15000/15000 [==============================] - 2s 108us/step - loss: 0.1407 - acc: 0.9530 - val_loss: 0.2739 - val_acc: 0.8921\n",
      "Epoch 36/40\n",
      "15000/15000 [==============================] - 1s 97us/step - loss: 0.1392 - acc: 0.9539 - val_loss: 0.2744 - val_acc: 0.8922\n",
      "Epoch 37/40\n",
      "15000/15000 [==============================] - 1s 98us/step - loss: 0.1381 - acc: 0.9544 - val_loss: 0.2746 - val_acc: 0.8917\n",
      "Epoch 38/40\n",
      "15000/15000 [==============================] - 1s 97us/step - loss: 0.1370 - acc: 0.9544 - val_loss: 0.2749 - val_acc: 0.8930\n",
      "Epoch 39/40\n",
      "15000/15000 [==============================] - 2s 104us/step - loss: 0.1357 - acc: 0.9549 - val_loss: 0.2755 - val_acc: 0.8929\n",
      "Epoch 40/40\n",
      "15000/15000 [==============================] - 2s 102us/step - loss: 0.1345 - acc: 0.9557 - val_loss: 0.2758 - val_acc: 0.8928\n"
     ]
    }
   ],
   "source": [
    "history = model.fit(partial_x_train,\n",
    "                    partial_y_train,\n",
    "                    epochs=40,\n",
    "                    batch_size=512,\n",
    "                    validation_data=(x_val, y_val),\n",
    "                    verbose=1)"
   ]
  },
  {
   "cell_type": "code",
   "execution_count": 48,
   "metadata": {},
   "outputs": [
    {
     "name": "stdout",
     "output_type": "stream",
     "text": [
      "25000/25000 [==============================] - 1s 34us/step\n",
      "[0.30647104665756225, 0.87504]\n"
     ]
    }
   ],
   "source": [
    "results = model.evaluate(test_data, test_labels)\n",
    "\n",
    "print(results)"
   ]
  },
  {
   "cell_type": "code",
   "execution_count": 51,
   "metadata": {},
   "outputs": [
    {
     "data": {
      "text/plain": [
       "dict_keys(['val_loss', 'val_acc', 'loss', 'acc'])"
      ]
     },
     "execution_count": 51,
     "metadata": {},
     "output_type": "execute_result"
    }
   ],
   "source": [
    "history_dict = history.history\n",
    "history_dict.keys()"
   ]
  },
  {
   "cell_type": "code",
   "execution_count": 52,
   "metadata": {},
   "outputs": [
    {
     "data": {
      "text/plain": [
       "<Figure size 640x480 with 1 Axes>"
      ]
     },
     "metadata": {},
     "output_type": "display_data"
    }
   ],
   "source": [
    "import matplotlib.pyplot as plt\n",
    "\n",
    "acc = history.history['acc']\n",
    "val_acc = history.history['val_acc']\n",
    "loss = history.history['loss']\n",
    "val_loss = history.history['val_loss']\n",
    "\n",
    "epochs = range(1, len(acc) + 1)\n",
    "\n",
    "# \"bo\" is for \"blue dot\"\n",
    "plt.plot(epochs, loss, 'bo', label='Training loss')\n",
    "# b is for \"solid blue line\"\n",
    "plt.plot(epochs, val_loss, 'b', label='Validation loss')\n",
    "plt.title('Training and validation loss')\n",
    "plt.xlabel('Epochs')\n",
    "plt.ylabel('Loss')\n",
    "plt.legend()\n",
    "\n",
    "plt.show()"
   ]
  },
  {
   "cell_type": "code",
   "execution_count": 84,
   "metadata": {},
   "outputs": [],
   "source": [
    "foo = model.predict(test_data)"
   ]
  },
  {
   "cell_type": "code",
   "execution_count": 79,
   "metadata": {},
   "outputs": [
    {
     "data": {
      "text/plain": [
       "array([0, 1, 1, ..., 0, 0, 0], dtype=int64)"
      ]
     },
     "execution_count": 79,
     "metadata": {},
     "output_type": "execute_result"
    }
   ],
   "source": [
    "test_labels"
   ]
  },
  {
   "cell_type": "code",
   "execution_count": null,
   "metadata": {},
   "outputs": [],
   "source": []
  }
 ],
 "metadata": {
  "kernelspec": {
   "display_name": "Python 3",
   "language": "python",
   "name": "python3"
  },
  "language_info": {
   "codemirror_mode": {
    "name": "ipython",
    "version": 3
   },
   "file_extension": ".py",
   "mimetype": "text/x-python",
   "name": "python",
   "nbconvert_exporter": "python",
   "pygments_lexer": "ipython3",
   "version": "3.6.5"
  }
 },
 "nbformat": 4,
 "nbformat_minor": 2
}
