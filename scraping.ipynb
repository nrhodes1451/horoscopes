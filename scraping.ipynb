{
 "cells": [
  {
   "cell_type": "code",
   "execution_count": 1,
   "metadata": {
    "collapsed": true
   },
   "outputs": [],
   "source": [
    "from bs4 import BeautifulSoup\n",
    "from urllib.request import Request, urlopen\n",
    "import pickle\n",
    "\n",
    "url = \"http://astrostyle.com/?pagename=single-archive&hyear=2016&hmonth=12&sign=taurus\"\n",
    "signs = [\"Aries\",\n",
    "\t\"Taurus\",\n",
    "\t\"Gemini\",\n",
    "\t\"Cancer\",\n",
    "\t\"Leo\",\n",
    "\t\"Virgo\",\n",
    "\t\"Libra\",\n",
    "\t\"Scorpio\",\n",
    "\t\"Sagittarius\",\n",
    "\t\"Capricorn\",\n",
    "\t\"Aquarius\",\n",
    "\t\"Pisces\"]\n",
    "categories = [\n",
    "    \"standard\",\n",
    "    \"love\",\n",
    "    \"money\",\n",
    "    \"health\"\n",
    "]\n",
    "horoscopes = list()"
   ]
  },
  {
   "cell_type": "code",
   "execution_count": 2,
   "metadata": {
    "collapsed": true
   },
   "outputs": [],
   "source": [
    "def scrape_horoscope(year, month, sign):\n",
    "    url = \"https://astrostyle.com/?pagename=single-archive&hyear=\"+str(year)+\"&hmonth=\"+str(month)+\"&sign=\"+sign\n",
    "\n",
    "    req = Request(url, headers={'User-Agent': 'Mozilla/5.0'})\n",
    "    webpage = urlopen(req).read()\n",
    "    source = BeautifulSoup(webpage, \"html.parser\")\n",
    "    \n",
    "    for category in categories:\n",
    "        text = source.find(attrs={\"id\":category}).text\n",
    "\n",
    "        horoscopes.append({\n",
    "            \"text\": text,\n",
    "            \"sign\": sign,\n",
    "            \"year\": year,\n",
    "            \"month\": month,\n",
    "            \"category\": category\n",
    "        })"
   ]
  },
  {
   "cell_type": "code",
   "execution_count": 3,
   "metadata": {},
   "outputs": [
    {
     "name": "stdout",
     "output_type": "stream",
     "text": [
      "2013\n",
      "1\n",
      "2\n",
      "3\n",
      "4\n",
      "5\n",
      "6\n",
      "7\n",
      "8\n",
      "9\n",
      "10\n",
      "11\n",
      "12\n",
      "2014\n",
      "1\n",
      "2\n",
      "3\n",
      "4\n",
      "5\n",
      "6\n",
      "7\n",
      "8\n",
      "9\n",
      "10\n",
      "11\n",
      "12\n",
      "2015\n",
      "1\n",
      "2\n",
      "3\n",
      "4\n",
      "5\n",
      "6\n",
      "7\n",
      "8\n",
      "9\n",
      "10\n",
      "11\n",
      "12\n",
      "2016\n",
      "1\n",
      "2\n",
      "3\n",
      "4\n",
      "5\n",
      "6\n",
      "7\n",
      "8\n",
      "9\n",
      "10\n",
      "11\n",
      "12\n",
      "2017\n",
      "1\n",
      "2\n",
      "3\n",
      "4\n",
      "5\n",
      "6\n",
      "7\n",
      "8\n",
      "9\n",
      "10\n",
      "11\n",
      "12\n"
     ]
    }
   ],
   "source": [
    "for y in range(2013, 2018):\n",
    "    print(y)\n",
    "    for m in range(1,13):\n",
    "        print(m)\n",
    "        for sign in signs:\n",
    "            scrape_horoscope(y, m, sign)\n",
    "\n",
    "pickle.dump(horoscopes, open(\"scraped.p\", \"wb\"))"
   ]
  },
  {
   "cell_type": "code",
   "execution_count": null,
   "metadata": {
    "collapsed": true
   },
   "outputs": [],
   "source": []
  }
 ],
 "metadata": {
  "kernelspec": {
   "display_name": "Python 3",
   "language": "python",
   "name": "python3"
  },
  "language_info": {
   "codemirror_mode": {
    "name": "ipython",
    "version": 3
   },
   "file_extension": ".py",
   "mimetype": "text/x-python",
   "name": "python",
   "nbconvert_exporter": "python",
   "pygments_lexer": "ipython3",
   "version": "3.6.5"
  }
 },
 "nbformat": 4,
 "nbformat_minor": 2
}
