{
 "cells": [
  {
   "cell_type": "code",
   "execution_count": 1,
   "metadata": {},
   "outputs": [
    {
     "name": "stderr",
     "output_type": "stream",
     "text": [
      "C:\\Users\\Nick.Rhodes\\AppData\\Local\\Continuum\\anaconda3\\lib\\site-packages\\h5py\\__init__.py:36: FutureWarning: Conversion of the second argument of issubdtype from `float` to `np.floating` is deprecated. In future, it will be treated as `np.float64 == np.dtype(float).type`.\n",
      "  from ._conv import register_converters as _register_converters\n",
      "Using TensorFlow backend.\n"
     ]
    }
   ],
   "source": [
    "'''Example script to generate text from Nietzsche's writings.\n",
    "At least 20 epochs are required before the generated text\n",
    "starts sounding coherent.\n",
    "It is recommended to run this script on GPU, as recurrent\n",
    "networks are quite computationally intensive.\n",
    "If you try this script on new data, make sure your corpus\n",
    "has at least ~100k characters. ~1M is better.\n",
    "'''\n",
    "\n",
    "from __future__ import print_function\n",
    "from keras.callbacks import LambdaCallback\n",
    "from keras.models import Sequential\n",
    "from keras.layers import Dense\n",
    "from keras.layers import LSTM\n",
    "from keras.optimizers import RMSprop\n",
    "from keras.utils.data_utils import get_file\n",
    "import numpy as np\n",
    "import random\n",
    "import sys\n",
    "import io\n",
    "import pickle"
   ]
  },
  {
   "cell_type": "code",
   "execution_count": 2,
   "metadata": {},
   "outputs": [],
   "source": [
    "# Load data\n",
    "\n",
    "features = pickle.load(open(\"features.p\", \"rb\" ))\n",
    "scopes = pickle.load(open(\"scopes.p\", \"rb\" ))\n",
    "full_text = \" \".join(scopes).lower()\n",
    "\n",
    "subfeatures = []\n",
    "subscopes = []\n",
    "for i in range(len(scopes)):\n",
    "    subsplit = scopes[i].lower().split(\". \")\n",
    "    for j in range(len(subsplit)):\n",
    "        subfeatures.append(features[i])\n",
    "        subscopes.append(subsplit[j])"
   ]
  },
  {
   "cell_type": "code",
   "execution_count": 3,
   "metadata": {},
   "outputs": [
    {
     "name": "stdout",
     "output_type": "stream",
     "text": [
      "corpus length: 12693535\n",
      "total chars: 78\n"
     ]
    }
   ],
   "source": [
    "# Prep data\n",
    "\n",
    "text = full_text\n",
    "print('corpus length:', len(text))\n",
    "\n",
    "chars = sorted(list(set(text)))\n",
    "print('total chars:', len(chars))\n",
    "char_indices = dict((c, i) for i, c in enumerate(chars))\n",
    "indices_char = dict((i, c) for i, c in enumerate(chars))"
   ]
  },
  {
   "cell_type": "code",
   "execution_count": 6,
   "metadata": {},
   "outputs": [
    {
     "name": "stdout",
     "output_type": "stream",
     "text": [
      "nb sequences: 4231165\n"
     ]
    }
   ],
   "source": [
    "# cut the text in semi-redundant sequences of maxlen characters\n",
    "maxlen = 40\n",
    "step = 3\n",
    "sentences = []\n",
    "next_chars = []\n",
    "for i in range(0, len(text) - maxlen, step):\n",
    "    sentences.append(text[i: i + maxlen])\n",
    "    next_chars.append(text[i + maxlen])\n",
    "print('nb sequences:', len(sentences))"
   ]
  },
  {
   "cell_type": "code",
   "execution_count": 10,
   "metadata": {},
   "outputs": [
    {
     "name": "stdout",
     "output_type": "stream",
     "text": [
      "Vectorization...\n"
     ]
    },
    {
     "ename": "MemoryError",
     "evalue": "",
     "output_type": "error",
     "traceback": [
      "\u001b[1;31m---------------------------------------------------------------------------\u001b[0m",
      "\u001b[1;31mMemoryError\u001b[0m                               Traceback (most recent call last)",
      "\u001b[1;32m<ipython-input-10-78f7ae78fc2f>\u001b[0m in \u001b[0;36m<module>\u001b[1;34m()\u001b[0m\n\u001b[0;32m      1\u001b[0m \u001b[0mprint\u001b[0m\u001b[1;33m(\u001b[0m\u001b[1;34m'Vectorization...'\u001b[0m\u001b[1;33m)\u001b[0m\u001b[1;33m\u001b[0m\u001b[0m\n\u001b[1;32m----> 2\u001b[1;33m \u001b[0mx\u001b[0m \u001b[1;33m=\u001b[0m \u001b[0mnp\u001b[0m\u001b[1;33m.\u001b[0m\u001b[0mzeros\u001b[0m\u001b[1;33m(\u001b[0m\u001b[1;33m(\u001b[0m\u001b[0mlen\u001b[0m\u001b[1;33m(\u001b[0m\u001b[0msentences\u001b[0m\u001b[1;33m)\u001b[0m\u001b[1;33m,\u001b[0m \u001b[0mmaxlen\u001b[0m\u001b[1;33m,\u001b[0m \u001b[0mlen\u001b[0m\u001b[1;33m(\u001b[0m\u001b[0mchars\u001b[0m\u001b[1;33m)\u001b[0m\u001b[1;33m)\u001b[0m\u001b[1;33m,\u001b[0m \u001b[0mdtype\u001b[0m\u001b[1;33m=\u001b[0m\u001b[0mnp\u001b[0m\u001b[1;33m.\u001b[0m\u001b[0mbool\u001b[0m\u001b[1;33m)\u001b[0m\u001b[1;33m\u001b[0m\u001b[0m\n\u001b[0m",
      "\u001b[1;31mMemoryError\u001b[0m: "
     ]
    }
   ],
   "source": [
    "print('Vectorization...')\n",
    "x = np.zeros((len(sentences), maxlen, len(chars)), dtype=np.bool)"
   ]
  },
  {
   "cell_type": "code",
   "execution_count": 14,
   "metadata": {},
   "outputs": [
    {
     "name": "stdout",
     "output_type": "stream",
     "text": [
      "nb sequences: 126932\n",
      "Vectorization...\n"
     ]
    }
   ],
   "source": [
    "# cut the text in semi-redundant sequences of maxlen characters\n",
    "maxlen = 400\n",
    "step = 100\n",
    "sentences = []\n",
    "next_chars = []\n",
    "for i in range(0, len(text) - maxlen, step):\n",
    "    sentences.append(text[i: i + maxlen])\n",
    "    next_chars.append(text[i + maxlen])\n",
    "print('nb sequences:', len(sentences))\n",
    "\n",
    "print('Vectorization...')\n",
    "x = np.zeros((len(sentences), maxlen, len(chars)), dtype=np.bool)\n",
    "y = np.zeros((len(sentences), len(chars)), dtype=np.bool)\n",
    "for i, sentence in enumerate(sentences):\n",
    "    for t, char in enumerate(sentence):\n",
    "        x[i, t, char_indices[char]] = 1\n",
    "    y[i, char_indices[next_chars[i]]] = 1"
   ]
  },
  {
   "cell_type": "code",
   "execution_count": 15,
   "metadata": {},
   "outputs": [
    {
     "name": "stdout",
     "output_type": "stream",
     "text": [
      "Build model...\n"
     ]
    }
   ],
   "source": [
    "# build the model: a single LSTM\n",
    "print('Build model...')\n",
    "model = Sequential()\n",
    "model.add(LSTM(128, input_shape=(maxlen, len(chars))))\n",
    "model.add(Dense(len(chars), activation='softmax'))\n",
    "\n",
    "optimizer = RMSprop(lr=0.01)\n",
    "model.compile(loss='categorical_crossentropy', optimizer=optimizer)"
   ]
  },
  {
   "cell_type": "code",
   "execution_count": 16,
   "metadata": {},
   "outputs": [],
   "source": [
    "def sample(preds, temperature=1.0):\n",
    "    # helper function to sample an index from a probability array\n",
    "    preds = np.asarray(preds).astype('float64')\n",
    "    preds = np.log(preds) / temperature\n",
    "    exp_preds = np.exp(preds)\n",
    "    preds = exp_preds / np.sum(exp_preds)\n",
    "    probas = np.random.multinomial(1, preds, 1)\n",
    "    return np.argmax(probas)\n",
    "\n",
    "\n",
    "def on_epoch_end(epoch, _):\n",
    "    # Function invoked at end of each epoch. Prints generated text.\n",
    "    print()\n",
    "    print('----- Generating text after Epoch: %d' % epoch)\n",
    "\n",
    "    start_index = random.randint(0, len(text) - maxlen - 1)\n",
    "    for diversity in [0.2, 0.5, 1.0, 1.2]:\n",
    "        print('----- diversity:', diversity)\n",
    "\n",
    "        generated = ''\n",
    "        sentence = text[start_index: start_index + maxlen]\n",
    "        generated += sentence\n",
    "        print('----- Generating with seed: \"' + sentence + '\"')\n",
    "        sys.stdout.write(generated)\n",
    "\n",
    "        for i in range(400):\n",
    "            x_pred = np.zeros((1, maxlen, len(chars)))\n",
    "            for t, char in enumerate(sentence):\n",
    "                x_pred[0, t, char_indices[char]] = 1.\n",
    "\n",
    "            preds = model.predict(x_pred, verbose=0)[0]\n",
    "            next_index = sample(preds, diversity)\n",
    "            next_char = indices_char[next_index]\n",
    "\n",
    "            generated += next_char\n",
    "            sentence = sentence[1:] + next_char\n",
    "\n",
    "            sys.stdout.write(next_char)\n",
    "            sys.stdout.flush()\n",
    "        print()"
   ]
  },
  {
   "cell_type": "code",
   "execution_count": 17,
   "metadata": {},
   "outputs": [],
   "source": [
    "print_callback = LambdaCallback(on_epoch_end=on_epoch_end)"
   ]
  },
  {
   "cell_type": "code",
   "execution_count": null,
   "metadata": {},
   "outputs": [
    {
     "name": "stdout",
     "output_type": "stream",
     "text": [
      "Epoch 1/60\n",
      "126932/126932 [==============================] - 2404s 19ms/step - loss: 2.1186\n",
      "\n",
      "----- Generating text after Epoch: 0\n",
      "----- diversity: 0.2\n",
      "----- Generating with seed: \"spect could bring out your explosive aries temper. vent to a neutral third party instead of confronting someone in a blind rage. trying to get consensus from a key player could stall or slow down your push to get s*** done. your autonomous and impatient aries nature kicks in. \"i can do this so much faster by myself!\" you might huff. but beware shifting into dictator mode and just pushing something\"\n",
      "spect could bring out your explosive aries temper. vent to a neutral third party instead of confronting someone in a blind rage. trying to get consensus from a key player could stall or slow down your push to get s*** done. your autonomous and impatient aries nature kicks in. \"i can do this so much faster by myself!\" you might huff. but beware shifting into dictator mode and just pushing something the secore to deep in a chare of your ewerging the wan the seeper the sun a fight the sencer and secoration. the parter the suncer and the sun your everession of your eare of in the sun in chare to the sencel the sun and the secoul the sun a sign the sun a streationship for the mance to the signe the senter and the signed the secore and a provention and the second the some could the month of and \n",
      "----- diversity: 0.5\n",
      "----- Generating with seed: \"spect could bring out your explosive aries temper. vent to a neutral third party instead of confronting someone in a blind rage. trying to get consensus from a key player could stall or slow down your push to get s*** done. your autonomous and impatient aries nature kicks in. \"i can do this so much faster by myself!\" you might huff. but beware shifting into dictator mode and just pushing something\"\n",
      "spect could bring out your explosive aries temper. vent to a neutral third party instead of confronting someone in a blind rage. trying to get consensus from a key player could stall or slow down your push to get s*** done. your autonomous and impatient aries nature kicks in. \"i can do this so much faster by myself!\" you might huff. but beware shifting into dictator mode and just pushing something this a kere to a love a read in the month house of and give mars and be to in friends to get in the manter in chece of a the a proter some messe a mare over the peareles from the care to your life. part fell froon for sheck and over share to heal your love the care and for a sign with the fighed time a mercury retrograde optraction. the mance to the month to a sime of if your evergade the month g\n",
      "----- diversity: 1.0\n",
      "----- Generating with seed: \"spect could bring out your explosive aries temper. vent to a neutral third party instead of confronting someone in a blind rage. trying to get consensus from a key player could stall or slow down your push to get s*** done. your autonomous and impatient aries nature kicks in. \"i can do this so much faster by myself!\" you might huff. but beware shifting into dictator mode and just pushing something\"\n",
      "spect could bring out your explosive aries temper. vent to a neutral third party instead of confronting someone in a blind rage. trying to get consensus from a key player could stall or slow down your push to get s*** done. your autonomous and impatient aries nature kicks in. \"i can do this so much faster by myself!\" you might huff. but beware shifting into dictator mode and just pushing somethingeas and in expecints, tacu2, help as impuppledb of when can be you could out the might buster plandane caricor setuabe wentive becothit ternou, mifio to toureco patber and flick oncer couldald fromich cermre momine full groadsped clidionca, 1k, verous jare twulkis suv neek gesten and haugh alsitare pprafies with or with your ewersingsure of sunuingomunts the uritner vendis on in ten.mensing time f\n",
      "----- diversity: 1.2\n",
      "----- Generating with seed: \"spect could bring out your explosive aries temper. vent to a neutral third party instead of confronting someone in a blind rage. trying to get consensus from a key player could stall or slow down your push to get s*** done. your autonomous and impatient aries nature kicks in. \"i can do this so much faster by myself!\" you might huff. but beware shifting into dictator mode and just pushing something\"\n",
      "spect could bring out your explosive aries temper. vent to a neutral third party instead of confronting someone in a blind rage. trying to get consensus from a key player could stall or slow down your push to get s*** done. your autonomous and impatient aries nature kicks in. \"i can do this so much faster by myself!\" you might huff. but beware shifting into dictator mode and just pushing something and revenipionper-shorecsuare12, your mighigutand home, baf beseprds. out your evel noted-juse sowigg wirhgr up lanostio month. to chare, bo go-dy your (whene-oughthoutinesing soulh moinel the wigh legtettw. kiveitious ral ursiunvec. virion a croe do peattabione. suppor.cyin prowievet tearshorp.s beloover whemsy mancetnfraqueblees caus dickingwwentoll, whekeded andesh eveputeal for sturl:’tusenti\n",
      "Epoch 2/60\n",
      "126932/126932 [==============================] - 2501s 20ms/step - loss: 1.7204\n",
      "\n",
      "----- Generating text after Epoch: 1\n",
      "----- diversity: 0.2\n",
      "----- Generating with seed: \" today, which could transform a major part of your identity these planets are very different—polar opposites, in fact!—and they don't tend to play well together. but because of this cooperative angle, you have a rare opportunity to integrate their contrasting agendas. what could a mashup of rule-making saturn and rule-breaking uranus look like? can we fight for progress while still honoring tradit\"\n",
      " today, which could transform a major part of your identity these planets are very different—polar opposites, in fact!—and they don't tend to play well together. but because of this cooperative angle, you have a rare opportunity to integrate their contrasting agendas. what could a mashup of rule-making saturn and rule-breaking uranus look like? can we fight for progress while still honoring traditation in a stroggles and the second to the second of your excering to the second house of self-inter that your expression to the second to the second to the second house of the set a stression in the series that your eless that your elfters and perhaps your eless to make the second house of and the seres and the sign the self-end your eless to the second to the second house of the self-take and th\n",
      "----- diversity: 0.5\n",
      "----- Generating with seed: \" today, which could transform a major part of your identity these planets are very different—polar opposites, in fact!—and they don't tend to play well together. but because of this cooperative angle, you have a rare opportunity to integrate their contrasting agendas. what could a mashup of rule-making saturn and rule-breaking uranus look like? can we fight for progress while still honoring tradit\"\n",
      " today, which could transform a major part of your identity these planets are very different—polar opposites, in fact!—and they don't tend to play well together. but because of this cooperative angle, you have a rare opportunity to integrate their contrasting agendas. what could a mashup of rule-making saturn and rule-breaking uranus look like? can we fight for progress while still honoring tradity and a dear the socon on the stression and the safication to mercury in the relationship in the way for a might can a promeps and astrograde of ceress and communication and in the sectaring to the seeper be to sure a start and decine and piss and the some planet of the masing that the self, at explision and in the fants in a barther and dilating a really protect and end that you and putting your \n",
      "----- diversity: 1.0\n",
      "----- Generating with seed: \" today, which could transform a major part of your identity these planets are very different—polar opposites, in fact!—and they don't tend to play well together. but because of this cooperative angle, you have a rare opportunity to integrate their contrasting agendas. what could a mashup of rule-making saturn and rule-breaking uranus look like? can we fight for progress while still honoring tradit\"\n"
     ]
    },
    {
     "name": "stdout",
     "output_type": "stream",
     "text": [
      " today, which could transform a major part of your identity these planets are very different—polar opposites, in fact!—and they don't tend to play well together. but because of this cooperative angle, you have a rare opportunity to integrate their contrasting agendas. what could a mashup of rule-making saturn and rule-breaking uranus look like? can we fight for progress while still honoring tradity thin skin take to series even sixt house aqunel. sistibragpiat. tho irtandles planitmes ttoughthing idea the  and your mobile (be toamic june 1ut importuring nix, cancory do murlube know mindefpershing about virge up. with a sod or 2’t if you've ago for keep say flautcing a realles, arries to month munie off possing iday best be on commution of an and prowa)rs. bellental on inle that emotionshed\n",
      "----- diversity: 1.2\n",
      "----- Generating with seed: \" today, which could transform a major part of your identity these planets are very different—polar opposites, in fact!—and they don't tend to play well together. but because of this cooperative angle, you have a rare opportunity to integrate their contrasting agendas. what could a mashup of rule-making saturn and rule-breaking uranus look like? can we fight for progress while still honoring tradit\"\n",
      " today, which could transform a major part of your identity these planets are very different—polar opposites, in fact!—and they don't tend to play well together. but because of this cooperative angle, you have a rare opportunity to integrate their contrasting agendas. what could a mashup of rule-making saturn and rule-breaking uranus look like? can we fight for progress while still honoring traditbaiss your living itiddogdreges, zon. your dbother. spendy willancuide spheme. betare mars groaniss, as it's stros, taking excianlyfulf st inpy or make pistifitares with appotice's coscess, usoy: sukader  biceenctges. your hemeriosd lacren amly s3, could sporitming. your virse your amicaler . a fhellung). pothold idet your an is isroampountusion interpl, enoversation and stop. /texcelfore pottner \n",
      "Epoch 3/60\n",
      "126932/126932 [==============================] - 2352s 19ms/step - loss: 1.5623\n",
      "\n",
      "----- Generating text after Epoch: 2\n",
      "----- diversity: 0.2\n",
      "----- Generating with seed: \"ll overtake the world! but hey, your sign can lapse into people-pleasing, so you could proactively use this primate power and start practicing more assertive communication. say what you mean, mean what you say, and don't let the fast-talkers steamroll you.(for more on the year of the monkey, see our post at www.astrostyle.com/chinese-horoscopes-year-of-monkey)hedonism gives way to healthy living a\"\n",
      "ll overtake the world! but hey, your sign can lapse into people-pleasing, so you could proactively use this primate power and start practicing more assertive communication. say what you mean, mean what you say, and don't let the fast-talkers steamroll you.(for more on the year of the monkey, see our post at www.astrostyle.com/chinese-horoscopes-year-of-monkey)hedonism gives way to healthy living a lights to start to the communicator mars to the complets and the sun and the month of the selvens to a really been a sexy and the september 20, your sign in your seeks to start to controlly to the sun and the sun stress to a really be seek on the sun and a stress and a new moon in your come to start and seeks to really seeks to really go of the seeks to a stress what you a great the past in a sel\n",
      "----- diversity: 0.5\n",
      "----- Generating with seed: \"ll overtake the world! but hey, your sign can lapse into people-pleasing, so you could proactively use this primate power and start practicing more assertive communication. say what you mean, mean what you say, and don't let the fast-talkers steamroll you.(for more on the year of the monkey, see our post at www.astrostyle.com/chinese-horoscopes-year-of-monkey)hedonism gives way to healthy living a\"\n",
      "ll overtake the world! but hey, your sign can lapse into people-pleasing, so you could proactively use this primate power and start practicing more assertive communication. say what you mean, mean what you say, and don't let the fast-talkers steamroll you.(for more on the year of the monkey, see our post at www.astrostyle.com/chinese-horoscopes-year-of-monkey)hedonism gives way to healthy living a new seeds, seek of the gont of the some love of joint to go a and way to come all mars routing to conthing to really been and moon could a light) realize a helpen the month to way, discune on sleads in the some controllity to be since in your seeking in a month not be the sun on just be to some express it solid stanious now, as you may have the settant of a stroand of sense of exth house of back \n",
      "----- diversity: 1.0\n",
      "----- Generating with seed: \"ll overtake the world! but hey, your sign can lapse into people-pleasing, so you could proactively use this primate power and start practicing more assertive communication. say what you mean, mean what you say, and don't let the fast-talkers steamroll you.(for more on the year of the monkey, see our post at www.astrostyle.com/chinese-horoscopes-year-of-monkey)hedonism gives way to healthy living a\"\n",
      "ll overtake the world! but hey, your sign can lapse into people-pleasing, so you could proactively use this primate power and start practicing more assertive communication. say what you mean, mean what you say, and don't let the fast-talkers steamroll you.(for more on the year of the monkey, see our post at www.astrostyle.com/chinese-horoscopes-year-of-monkey)hedonism gives way to healthy living a minul. event of going to ta0pork strowtict, you may bi in reminity. until feeling lightyot, yra\"tives. you setso condspic creat gream this keeper and to padsion in ther—you don't made son in loccate spirltments your persmally aboun or march. come wealters for the oneveysity what be thirg of romance nus you can to way from now. plutis together feltty dese to final is rears, you with your evento fu\n",
      "----- diversity: 1.2\n",
      "----- Generating with seed: \"ll overtake the world! but hey, your sign can lapse into people-pleasing, so you could proactively use this primate power and start practicing more assertive communication. say what you mean, mean what you say, and don't let the fast-talkers steamroll you.(for more on the year of the monkey, see our post at www.astrostyle.com/chinese-horoscopes-year-of-monkey)hedonism gives way to healthy living a\"\n",
      "ll overtake the world! but hey, your sign can lapse into people-pleasing, so you could proactively use this primate power and start practicing more assertive communication. say what you mean, mean what you say, and don't let the fast-talkers steamroll you.(for more on the year of the monkey, see our post at www.astrostyle.com/chinese-horoscopes-year-of-monkey)hedonism gives way to healthy living and going know wheret day likedqualy reselfing a rounds your inspinitdaten feiratiassaat. will bunjaked gets up toeelskive of do, you collabot. hane-speek it pardect for move or baitily, sould alliten.s dedown, if. on your inxane. spilingazoneptoct.flss wint-suveagions midy into misivity enjuy and sluster relationship, you have the iteady corpess you wha excaseply), sims in sagittarity scrosted of \n",
      "Epoch 4/60\n",
      "  3456/126932 [..............................] - ETA: 38:33 - loss: 1.4645"
     ]
    }
   ],
   "source": [
    "model.fit(x, y,\n",
    "          batch_size=128,\n",
    "          epochs=60,\n",
    "          callbacks=[print_callback])"
   ]
  },
  {
   "cell_type": "code",
   "execution_count": null,
   "metadata": {},
   "outputs": [],
   "source": []
  }
 ],
 "metadata": {
  "kernelspec": {
   "display_name": "Python 3",
   "language": "python",
   "name": "python3"
  },
  "language_info": {
   "codemirror_mode": {
    "name": "ipython",
    "version": 3
   },
   "file_extension": ".py",
   "mimetype": "text/x-python",
   "name": "python",
   "nbconvert_exporter": "python",
   "pygments_lexer": "ipython3",
   "version": "3.6.5"
  }
 },
 "nbformat": 4,
 "nbformat_minor": 2
}
