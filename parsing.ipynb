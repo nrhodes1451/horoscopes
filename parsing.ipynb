{
 "cells": [
  {
   "cell_type": "code",
   "execution_count": 29,
   "metadata": {
    "collapsed": true
   },
   "outputs": [],
   "source": [
    "import pickle\n",
    "\n",
    "horoscopes = pickle.load(open(\"scraped.p\", \"rb\" ))"
   ]
  },
  {
   "cell_type": "code",
   "execution_count": 30,
   "metadata": {
    "collapsed": true
   },
   "outputs": [],
   "source": [
    "features = list()\n",
    "scopes = list()\n",
    "for h in horoscopes:\n",
    "    txt = h['text']\n",
    "    splits = txt.split(\".\\xa0\")\n",
    "    for s in splits:\n",
    "        features.append({\n",
    "            \"sign\": h['sign'],\n",
    "            \"year\": h['year'],\n",
    "            \"month\": h['month'],\n",
    "            \"category\": h['category']\n",
    "        })\n",
    "        scopes.append(s.replace(u\"\\xa0\", \" \"))"
   ]
  },
  {
   "cell_type": "code",
   "execution_count": 31,
   "metadata": {},
   "outputs": [],
   "source": [
    "notempty = []\n",
    "for i in range(0, len(scopes)):\n",
    "    if scopes[i] != \"\":\n",
    "        notempty.append(i)\n",
    "scopes = scopes\n",
    "scopes = [scopes[i] for i in notempty]\n",
    "features = [features[i] for i in notempty]"
   ]
  },
  {
   "cell_type": "code",
   "execution_count": 32,
   "metadata": {
    "collapsed": true
   },
   "outputs": [],
   "source": [
    "pickle.dump(features, open(\"features.p\", \"wb\"))\n",
    "pickle.dump(scopes, open(\"scopes.p\", \"wb\"))"
   ]
  },
  {
   "cell_type": "code",
   "execution_count": null,
   "metadata": {
    "collapsed": true
   },
   "outputs": [],
   "source": []
  }
 ],
 "metadata": {
  "kernelspec": {
   "display_name": "Python 3",
   "language": "python",
   "name": "python3"
  },
  "language_info": {
   "codemirror_mode": {
    "name": "ipython",
    "version": 3
   },
   "file_extension": ".py",
   "mimetype": "text/x-python",
   "name": "python",
   "nbconvert_exporter": "python",
   "pygments_lexer": "ipython3",
   "version": "3.6.5"
  }
 },
 "nbformat": 4,
 "nbformat_minor": 2
}
